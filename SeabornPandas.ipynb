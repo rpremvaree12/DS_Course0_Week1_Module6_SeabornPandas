{
 "cells": [
  {
   "cell_type": "markdown",
   "id": "7dbf7564",
   "metadata": {
    "id": "7dbf7564"
   },
   "source": [
    "# Lab - Data Visualizations with Seaborn & Pandas"
   ]
  },
  {
   "cell_type": "markdown",
   "id": "d198f9a3",
   "metadata": {
    "ExecuteTime": {
     "end_time": "2024-07-11T15:08:37.811654Z",
     "start_time": "2024-07-11T15:08:37.803487Z"
    },
    "id": "d198f9a3"
   },
   "source": [
    "## Introduction"
   ]
  },
  {
   "cell_type": "markdown",
   "id": "d8856149",
   "metadata": {
    "id": "d8856149"
   },
   "source": [
    "In this lab, you will apply your knowledge of the advanced visualization library Seaborn to generate plots that provide insight."
   ]
  },
  {
   "cell_type": "markdown",
   "id": "a0052bbf",
   "metadata": {
    "id": "a0052bbf"
   },
   "source": [
    "## Objectives"
   ]
  },
  {
   "cell_type": "markdown",
   "id": "iadd-sX1g4v-",
   "metadata": {
    "id": "iadd-sX1g4v-"
   },
   "source": [
    "You will be able to:\n",
    "    \n",
    "- Create a boxplot using Seaborn\n",
    "- Label plots with appropriate axis labels and titles\n",
    "- Create data visualizations with Pandas"
   ]
  },
  {
   "cell_type": "markdown",
   "id": "8jPoobpQg72U",
   "metadata": {
    "id": "8jPoobpQg72U"
   },
   "source": [
    "## Part I: Seaborn\n",
    "\n",
    "We will use a randomly generated data set to practice using Seaborn. Begin by running the below code without change."
   ]
  },
  {
   "cell_type": "code",
   "execution_count": 1,
   "id": "Wgj01PA7h4jQ",
   "metadata": {
    "id": "Wgj01PA7h4jQ"
   },
   "outputs": [],
   "source": [
    "# CodeGrade step0\n",
    "# Run this cell without changes\n",
    "\n",
    "import numpy as np\n",
    "import pandas as pd\n",
    "import seaborn as sns\n",
    "import matplotlib.pyplot as plt\n",
    "\n",
    "# The seed must be 42 for the data to replicate\n",
    "seed = 42\n",
    "\n",
    "# Data\n",
    "data = np.random.normal(size=(20, 10)) + np.arange(10) / 2"
   ]
  },
  {
   "cell_type": "markdown",
   "id": "dz9ywOCtir1t",
   "metadata": {
    "id": "dz9ywOCtir1t"
   },
   "source": [
    "### Step 1\n",
    "\n",
    "Create a boxplot and store the object returned in the variable boxplot1."
   ]
  },
  {
   "cell_type": "code",
   "execution_count": 2,
   "id": "pBe5Tvdvixv4",
   "metadata": {
    "id": "pBe5Tvdvixv4"
   },
   "outputs": [
    {
     "name": "stderr",
     "output_type": "stream",
     "text": [
      "/opt/anaconda3/envs/learn-env/lib/python3.8/site-packages/seaborn/_decorators.py:36: FutureWarning: Pass the following variable as a keyword arg: x. From version 0.12, the only valid positional argument will be `data`, and passing other arguments without an explicit keyword will result in an error or misinterpretation.\n",
      "  warnings.warn(\n"
     ]
    },
    {
     "data": {
      "image/png": "[encoded data removed]",
      "text/plain": [
       "<Figure size 432x288 with 1 Axes>"
      ]
     },
     "metadata": {
      "needs_background": "light"
     },
     "output_type": "display_data"
    }
   ],
   "source": [
    "# CodeGrade step1\n",
    "# Replace None with your code\n",
    "\n",
    "boxplot1 = sns.boxplot(data)"
   ]
  },
  {
   "cell_type": "markdown",
   "id": "LfOPe5Zyi3Sh",
   "metadata": {
    "id": "LfOPe5Zyi3Sh"
   },
   "source": [
    "### Step 2\n",
    "Repeat step 1 creating another boxplot, but now also call the boxplot object's set() method in order to set the title and axis labels as follow:\n",
    "* X axis should be labeled 'X Label'\n",
    "* y axis should be labeled 'Y Label'\n",
    "* Title should be labeled 'Example Boxplot'"
   ]
  },
  {
   "cell_type": "code",
   "execution_count": 3,
   "id": "Qif9hCfQjIkN",
   "metadata": {
    "id": "Qif9hCfQjIkN"
   },
   "outputs": [
    {
     "name": "stderr",
     "output_type": "stream",
     "text": [
      "/opt/anaconda3/envs/learn-env/lib/python3.8/site-packages/seaborn/_decorators.py:36: FutureWarning: Pass the following variable as a keyword arg: x. From version 0.12, the only valid positional argument will be `data`, and passing other arguments without an explicit keyword will result in an error or misinterpretation.\n",
      "  warnings.warn(\n"
     ]
    },
    {
     "data": {
      "text/plain": [
       "[Text(0.5, 0, 'X Label'),\n",
       " Text(0, 0.5, 'Y Label'),\n",
       " Text(0.5, 1.0, 'Example Boxplot')]"
      ]
     },
     "execution_count": 3,
     "metadata": {},
     "output_type": "execute_result"
    },
    {
     "data": {
      "image/png": "[encoded data removed]",
      "text/plain": [
       "<Figure size 432x288 with 1 Axes>"
      ]
     },
     "metadata": {
      "needs_background": "light"
     },
     "output_type": "display_data"
    }
   ],
   "source": [
    "# CodeGrade step2\n",
    "# Replace None with your code\n",
    "\n",
    "boxplot2 = sns.boxplot(data)\n",
    "boxplot2.set(xlabel='X Label',ylabel='Y Label',title='Example Boxplot')"
   ]
  },
  {
   "cell_type": "markdown",
   "id": "AQSKa6zgjZvK",
   "metadata": {
    "id": "AQSKa6zgjZvK"
   },
   "source": [
    "### Step 3\n",
    "\n",
    "Repeat step 2, this time also utilizing Seaborn to set the style to be 'darkgrid'. Still include title and axis labels."
   ]
  },
  {
   "cell_type": "code",
   "execution_count": 4,
   "id": "WkT6dKgRjaBJ",
   "metadata": {
    "id": "WkT6dKgRjaBJ"
   },
   "outputs": [
    {
     "name": "stderr",
     "output_type": "stream",
     "text": [
      "/opt/anaconda3/envs/learn-env/lib/python3.8/site-packages/seaborn/_decorators.py:36: FutureWarning: Pass the following variable as a keyword arg: x. From version 0.12, the only valid positional argument will be `data`, and passing other arguments without an explicit keyword will result in an error or misinterpretation.\n",
      "  warnings.warn(\n"
     ]
    },
    {
     "data": {
      "text/plain": [
       "[Text(0.5, 0, 'X Label'),\n",
       " Text(0, 0.5, 'Y Label'),\n",
       " Text(0.5, 1.0, 'Example Boxplot')]"
      ]
     },
     "execution_count": 4,
     "metadata": {},
     "output_type": "execute_result"
    },
    {
     "data": {
      "image/png": "[encoded data removed]",
      "text/plain": [
       "<Figure size 432x288 with 1 Axes>"
      ]
     },
     "metadata": {},
     "output_type": "display_data"
    }
   ],
   "source": [
    "# CodeGrade step3\n",
    "# Replace None with your code\n",
    "\n",
    "# Set style\n",
    "sns.set_style(\"darkgrid\")\n",
    "\n",
    "# Plot\n",
    "boxplot3 = sns.boxplot(data)\n",
    "boxplot3.set(xlabel='X Label',ylabel='Y Label',title='Example Boxplot')"
   ]
  },
  {
   "cell_type": "markdown",
   "id": "5kiPMgX_jrwM",
   "metadata": {
    "id": "5kiPMgX_jrwM"
   },
   "source": [
    "### Step 4\n",
    "\n",
    "Recreate the labeled boxplot that we made in Step 3\n",
    "* Utilizing Seaborn's context setting, adjust the size and font style of text so that it is more legible for presentations and large screen format\n",
    "* Use 'poster' from Seaborns preconfigured options\n",
    "\n"
   ]
  },
  {
   "cell_type": "code",
   "execution_count": 5,
   "id": "95qfZVTKjr4i",
   "metadata": {
    "id": "95qfZVTKjr4i"
   },
   "outputs": [
    {
     "name": "stderr",
     "output_type": "stream",
     "text": [
      "/opt/anaconda3/envs/learn-env/lib/python3.8/site-packages/seaborn/_decorators.py:36: FutureWarning: Pass the following variable as a keyword arg: x. From version 0.12, the only valid positional argument will be `data`, and passing other arguments without an explicit keyword will result in an error or misinterpretation.\n",
      "  warnings.warn(\n"
     ]
    },
    {
     "data": {
      "text/plain": [
       "[Text(0.5, 0, 'X Label'),\n",
       " Text(0, 0.5, 'Y Label'),\n",
       " Text(0.5, 1.0, 'Example Boxplot')]"
      ]
     },
     "execution_count": 5,
     "metadata": {},
     "output_type": "execute_result"
    },
    {
     "data": {
      "image/png": "[encoded data removed]",
      "text/plain": [
       "<Figure size 432x288 with 1 Axes>"
      ]
     },
     "metadata": {},
     "output_type": "display_data"
    }
   ],
   "source": [
    "# CodeGrade step4\n",
    "# Replace None with your code\n",
    "\n",
    "# Context\n",
    "sns.set_style(\"darkgrid\")\n",
    "sns.set_context(\"poster\")\n",
    "\n",
    "# Plot\n",
    "boxplot4 = sns.boxplot(data)\n",
    "boxplot4.set(xlabel='X Label',ylabel='Y Label',title='Example Boxplot')"
   ]
  },
  {
   "cell_type": "markdown",
   "id": "DqyOt8UEl-zG",
   "metadata": {
    "id": "DqyOt8UEl-zG"
   },
   "source": [
    "### Step 5\n",
    "\n",
    "You are now going to take a look at the canonical Seaborn Penguins dataset. This dataset contains biometric measurements and categorical information regarding three species of penguins."
   ]
  },
  {
   "cell_type": "code",
   "execution_count": 6,
   "id": "SJbaN3_Lm-3Z",
   "metadata": {
    "colab": {
     "base_uri": "https://localhost:8080/",
     "height": 424
    },
    "id": "SJbaN3_Lm-3Z",
    "outputId": "525808a2-7590-4c61-ba64-d9895a375eec"
   },
   "outputs": [
    {
     "data": {
      "text/html": [
       "<div>\n",
       "<style scoped>\n",
       "    .dataframe tbody tr th:only-of-type {\n",
       "        vertical-align: middle;\n",
       "    }\n",
       "\n",
       "    .dataframe tbody tr th {\n",
       "        vertical-align: top;\n",
       "    }\n",
       "\n",
       "    .dataframe thead th {\n",
       "        text-align: right;\n",
       "    }\n",
       "</style>\n",
       "<table border=\"1\" class=\"dataframe\">\n",
       "  <thead>\n",
       "    <tr style=\"text-align: right;\">\n",
       "      <th></th>\n",
       "      <th>species</th>\n",
       "      <th>island</th>\n",
       "      <th>bill_length_mm</th>\n",
       "      <th>bill_depth_mm</th>\n",
       "      <th>flipper_length_mm</th>\n",
       "      <th>body_mass_g</th>\n",
       "      <th>sex</th>\n",
       "    </tr>\n",
       "  </thead>\n",
       "  <tbody>\n",
       "    <tr>\n",
       "      <th>0</th>\n",
       "      <td>Adelie</td>\n",
       "      <td>Torgersen</td>\n",
       "      <td>39.1</td>\n",
       "      <td>18.7</td>\n",
       "      <td>181.0</td>\n",
       "      <td>3750.0</td>\n",
       "      <td>Male</td>\n",
       "    </tr>\n",
       "    <tr>\n",
       "      <th>1</th>\n",
       "      <td>Adelie</td>\n",
       "      <td>Torgersen</td>\n",
       "      <td>39.5</td>\n",
       "      <td>17.4</td>\n",
       "      <td>186.0</td>\n",
       "      <td>3800.0</td>\n",
       "      <td>Female</td>\n",
       "    </tr>\n",
       "    <tr>\n",
       "      <th>2</th>\n",
       "      <td>Adelie</td>\n",
       "      <td>Torgersen</td>\n",
       "      <td>40.3</td>\n",
       "      <td>18.0</td>\n",
       "      <td>195.0</td>\n",
       "      <td>3250.0</td>\n",
       "      <td>Female</td>\n",
       "    </tr>\n",
       "    <tr>\n",
       "      <th>3</th>\n",
       "      <td>Adelie</td>\n",
       "      <td>Torgersen</td>\n",
       "      <td>NaN</td>\n",
       "      <td>NaN</td>\n",
       "      <td>NaN</td>\n",
       "      <td>NaN</td>\n",
       "      <td>NaN</td>\n",
       "    </tr>\n",
       "    <tr>\n",
       "      <th>4</th>\n",
       "      <td>Adelie</td>\n",
       "      <td>Torgersen</td>\n",
       "      <td>36.7</td>\n",
       "      <td>19.3</td>\n",
       "      <td>193.0</td>\n",
       "      <td>3450.0</td>\n",
       "      <td>Female</td>\n",
       "    </tr>\n",
       "  </tbody>\n",
       "</table>\n",
       "</div>"
      ],
      "text/plain": [
       "  species     island  bill_length_mm  bill_depth_mm  flipper_length_mm  \\\n",
       "0  Adelie  Torgersen            39.1           18.7              181.0   \n",
       "1  Adelie  Torgersen            39.5           17.4              186.0   \n",
       "2  Adelie  Torgersen            40.3           18.0              195.0   \n",
       "3  Adelie  Torgersen             NaN            NaN                NaN   \n",
       "4  Adelie  Torgersen            36.7           19.3              193.0   \n",
       "\n",
       "   body_mass_g     sex  \n",
       "0       3750.0    Male  \n",
       "1       3800.0  Female  \n",
       "2       3250.0  Female  \n",
       "3          NaN     NaN  \n",
       "4       3450.0  Female  "
      ]
     },
     "execution_count": 6,
     "metadata": {},
     "output_type": "execute_result"
    }
   ],
   "source": [
    "# CodeGrade step0\n",
    "# Run this cell without changes\n",
    "\n",
    "penguins = pd.read_csv(\"penguins.csv\")\n",
    "penguins.head()"
   ]
  },
  {
   "cell_type": "markdown",
   "id": "e8051fe9",
   "metadata": {},
   "source": [
    "Now use Seaborn to create a histogram of the 'body_mass_g' column with the following parameters:\n",
    "*   Context is set to 'talk'\n",
    "*   Color of the bars should distinguish male and female from each other\n",
    "*   The labels should be:\n",
    "    - X Axis: 'Body Mass (g)'\n",
    "    - Y Axis: 'Number of Penguins'\n",
    "    - Title: 'Penguin Mass Distribution by Sex'"
   ]
  },
  {
   "cell_type": "code",
   "execution_count": 15,
   "id": "AoDerbaZkdfL",
   "metadata": {
    "id": "AoDerbaZkdfL"
   },
   "outputs": [
    {
     "data": {
      "text/plain": [
       "[Text(0.5, 0, 'Body Mass (g)'),\n",
       " Text(0, 0.5, 'Number of Penguins'),\n",
       " Text(0.5, 1.0, 'Penguin Mass Distribution by Sex')]"
      ]
     },
     "execution_count": 15,
     "metadata": {},
     "output_type": "execute_result"
    },
    {
     "data": {
      "image/png": "[encoded data removed]",
      "text/plain": [
       "<Figure size 432x288 with 1 Axes>"
      ]
     },
     "metadata": {},
     "output_type": "display_data"
    }
   ],
   "source": [
    "# CodeGrade step5\n",
    "# Replace None with your code\n",
    "\n",
    "# Context\n",
    "sns.set_context(\"talk\")\n",
    "\n",
    "#Plot\n",
    "histplot1 = sns.histplot(data=penguins, x='body_mass_g', hue='sex')\n",
    "histplot1.set(xlabel='Body Mass (g)', ylabel='Number of Penguins', title='Penguin Mass Distribution by Sex')\n"
   ]
  },
  {
   "cell_type": "markdown",
   "id": "89vbnhQ_pO-7",
   "metadata": {
    "id": "89vbnhQ_pO-7"
   },
   "source": [
    "### Step 6\n",
    "\n",
    "Create a scatter plot of the bill length (horizontal axis) vs. the bill depth (vertical axis) with the following parameters:\n",
    "\n",
    "* The context set to 'paper'\n",
    "* Have the points color represent the sex\n",
    "* Have the points shape/style represent the species\n",
    "* The labels should be:\n",
    "    - X Axis: 'Bill Length (mm)'\n",
    "    - y Axis: 'Bill Depth (mm)'\n",
    "    - Title: 'Scatterplot of Penguin Bill Sizes'"
   ]
  },
  {
   "cell_type": "code",
   "execution_count": 17,
   "id": "ZpoLwr6ZpJ-i",
   "metadata": {
    "id": "ZpoLwr6ZpJ-i"
   },
   "outputs": [
    {
     "data": {
      "text/plain": [
       "[Text(0.5, 0, 'Bill Length (mm)'),\n",
       " Text(0, 0.5, 'Bill Depth (mm)'),\n",
       " Text(0.5, 1.0, 'Scatterplot of Penguin Bill Sizes')]"
      ]
     },
     "execution_count": 17,
     "metadata": {},
     "output_type": "execute_result"
    },
    {
     "data": {
      "image/png": "[encoded data removed]",
      "text/plain": [
       "<Figure size 432x288 with 1 Axes>"
      ]
     },
     "metadata": {},
     "output_type": "display_data"
    }
   ],
   "source": [
    "# CodeGrade step6\n",
    "# Replace None with your code\n",
    "\n",
    "# Context\n",
    "sns.set_context('paper')\n",
    "# Plot\n",
    "scatterplot1 = sns.scatterplot(data=penguins, x=\"bill_length_mm\", y=\"bill_depth_mm\", hue=\"sex\", style=\"species\")\n",
    "scatterplot1.set(xlabel = 'Bill Length (mm)', ylabel='Bill Depth (mm)', title='Scatterplot of Penguin Bill Sizes')\n"
   ]
  },
  {
   "cell_type": "markdown",
   "id": "3a7a1816",
   "metadata": {},
   "source": [
    "## Part II: Pandas"
   ]
  },
  {
   "cell_type": "markdown",
   "id": "5d0a2554",
   "metadata": {},
   "source": [
    "### Visualizing High Dimensional Data\n",
    "\n",
    "You are now going to take a look at the canonical iris dataset. This dataset is a classic multivariate dataset, which includes the sepal length, sepal width, petal length, and petal width for hundreds of samples of three species of the iris flower."
   ]
  },
  {
   "cell_type": "code",
   "execution_count": 18,
   "id": "0ecc5d4f",
   "metadata": {},
   "outputs": [
    {
     "data": {
      "text/html": [
       "<div>\n",
       "<style scoped>\n",
       "    .dataframe tbody tr th:only-of-type {\n",
       "        vertical-align: middle;\n",
       "    }\n",
       "\n",
       "    .dataframe tbody tr th {\n",
       "        vertical-align: top;\n",
       "    }\n",
       "\n",
       "    .dataframe thead th {\n",
       "        text-align: right;\n",
       "    }\n",
       "</style>\n",
       "<table border=\"1\" class=\"dataframe\">\n",
       "  <thead>\n",
       "    <tr style=\"text-align: right;\">\n",
       "      <th></th>\n",
       "      <th>sepal_length</th>\n",
       "      <th>sepal_width</th>\n",
       "      <th>petal_length</th>\n",
       "      <th>petal_width</th>\n",
       "      <th>species</th>\n",
       "    </tr>\n",
       "  </thead>\n",
       "  <tbody>\n",
       "    <tr>\n",
       "      <th>0</th>\n",
       "      <td>5.1</td>\n",
       "      <td>3.5</td>\n",
       "      <td>1.4</td>\n",
       "      <td>0.2</td>\n",
       "      <td>setosa</td>\n",
       "    </tr>\n",
       "    <tr>\n",
       "      <th>1</th>\n",
       "      <td>4.9</td>\n",
       "      <td>3.0</td>\n",
       "      <td>1.4</td>\n",
       "      <td>0.2</td>\n",
       "      <td>setosa</td>\n",
       "    </tr>\n",
       "    <tr>\n",
       "      <th>2</th>\n",
       "      <td>4.7</td>\n",
       "      <td>3.2</td>\n",
       "      <td>1.3</td>\n",
       "      <td>0.2</td>\n",
       "      <td>setosa</td>\n",
       "    </tr>\n",
       "    <tr>\n",
       "      <th>3</th>\n",
       "      <td>4.6</td>\n",
       "      <td>3.1</td>\n",
       "      <td>1.5</td>\n",
       "      <td>0.2</td>\n",
       "      <td>setosa</td>\n",
       "    </tr>\n",
       "    <tr>\n",
       "      <th>4</th>\n",
       "      <td>5.0</td>\n",
       "      <td>3.6</td>\n",
       "      <td>1.4</td>\n",
       "      <td>0.2</td>\n",
       "      <td>setosa</td>\n",
       "    </tr>\n",
       "  </tbody>\n",
       "</table>\n",
       "</div>"
      ],
      "text/plain": [
       "   sepal_length  sepal_width  petal_length  petal_width species\n",
       "0           5.1          3.5           1.4          0.2  setosa\n",
       "1           4.9          3.0           1.4          0.2  setosa\n",
       "2           4.7          3.2           1.3          0.2  setosa\n",
       "3           4.6          3.1           1.5          0.2  setosa\n",
       "4           5.0          3.6           1.4          0.2  setosa"
      ]
     },
     "execution_count": 18,
     "metadata": {},
     "output_type": "execute_result"
    }
   ],
   "source": [
    "# CodeGrade step0\n",
    "# Run this cell without changes\n",
    "\n",
    "iris = pd.read_csv(\"iris.csv\")\n",
    "iris.head()"
   ]
  },
  {
   "cell_type": "markdown",
   "id": "ab7eaf7b",
   "metadata": {},
   "source": [
    "### Step 7\n",
    "\n",
    "A primary question you might ask regarding this data is if there is any difference in average measurements across species? You can help answer this via a simple bar chart visual. In order to do so you must first create your aggregated data. You are interestred in seeing how much the mean sepal width differs across the three species.\n",
    "* X Axis should be labeled as 'Species'\n",
    "* Y Axis should be labeled as 'Mean Sepal Width'\n",
    "* Title should be labeled as 'Distribution of Sepal Width'"
   ]
  },
  {
   "cell_type": "code",
   "execution_count": 19,
   "id": "6840c9cb",
   "metadata": {},
   "outputs": [
    {
     "data": {
      "image/png": "[encoded data removed]",
      "text/plain": [
       "<Figure size 432x288 with 1 Axes>"
      ]
     },
     "metadata": {},
     "output_type": "display_data"
    }
   ],
   "source": [
    "# CodeGrade step7\n",
    "# Replace None with your code\n",
    "\n",
    "# Create your grouped by means, should be a pandas series\n",
    "species_mean_sepal_width = iris.groupby('species').mean()['sepal_width']\n",
    "\n",
    "# Plot from the species_mean_width series\n",
    "barplot1 = species_mean_sepal_width.plot(kind='bar', title='Distribution of Sepal Width', ylabel='Mean Sepal Width')"
   ]
  },
  {
   "cell_type": "markdown",
   "id": "b14f49b0",
   "metadata": {},
   "source": [
    "### Step 8\n",
    "\n",
    "Utilize pandas plotting (.plot) to create a histogram plot to show the distribution of the 'sepal_length' column separated and grouped by 'species'. You should end up with a chart showing three histograms, one on top of the other. You can accomplish this with one .plot() call."
   ]
  },
  {
   "cell_type": "code",
   "execution_count": 37,
   "id": "0be5bf67",
   "metadata": {},
   "outputs": [
    {
     "data": {
      "image/png": "[encoded data removed]",
      "text/plain": [
       "<Figure size 432x288 with 1 Axes>"
      ]
     },
     "metadata": {},
     "output_type": "display_data"
    }
   ],
   "source": [
    "# CodeGrade step8\n",
    "# Replace None with your code\n",
    "\n",
    "# Plot\n",
    "histplot2 = iris.groupby('species')['sepal_length'].plot(kind='hist',legend=True, alpha=0.7)\n",
    "\n",
    "# iterate through all histograms and set axis label\n",
    "for ax in histplot2:\n",
    "    ax.set_xlabel('Sepal Length') "
   ]
  }
 ],
 "metadata": {
  "colab": {
   "provenance": []
  },
  "kernelspec": {
   "display_name": "Python (learn-env)",
   "language": "python",
   "name": "learn-env"
  },
  "language_info": {
   "codemirror_mode": {
    "name": "ipython",
    "version": 3
   },
   "file_extension": ".py",
   "mimetype": "text/x-python",
   "name": "python",
   "nbconvert_exporter": "python",
   "pygments_lexer": "ipython3",
   "version": "3.8.5"
  },
  "toc": {
   "base_numbering": 1,
   "nav_menu": {},
   "number_sections": true,
   "sideBar": true,
   "skip_h1_title": false,
   "title_cell": "Table of Contents",
   "title_sidebar": "Contents",
   "toc_cell": false,
   "toc_position": {},
   "toc_section_display": true,
   "toc_window_display": false
  }
 },
 "nbformat": 4,
 "nbformat_minor": 5
}
